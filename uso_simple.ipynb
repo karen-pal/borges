{
 "cells": [
  {
   "cell_type": "code",
   "execution_count": 11,
   "id": "8571c69c-18f3-4f53-bae2-68e5a08b3ad9",
   "metadata": {},
   "outputs": [],
   "source": [
    "import pandas as pd\n",
    "\n",
    "# Leer el archivo CSV\n",
    "df = pd.read_csv('datasets/full_corpus.csv')"
   ]
  },
  {
   "cell_type": "code",
   "execution_count": 12,
   "id": "0c45cb66-a9bc-4b92-baa3-c91b7ef5f186",
   "metadata": {},
   "outputs": [
    {
     "data": {
      "text/html": [
       "<div>\n",
       "<style scoped>\n",
       "    .dataframe tbody tr th:only-of-type {\n",
       "        vertical-align: middle;\n",
       "    }\n",
       "\n",
       "    .dataframe tbody tr th {\n",
       "        vertical-align: top;\n",
       "    }\n",
       "\n",
       "    .dataframe thead th {\n",
       "        text-align: right;\n",
       "    }\n",
       "</style>\n",
       "<table border=\"1\" class=\"dataframe\">\n",
       "  <thead>\n",
       "    <tr style=\"text-align: right;\">\n",
       "      <th></th>\n",
       "      <th>link</th>\n",
       "      <th>text</th>\n",
       "      <th>title</th>\n",
       "      <th>metadata</th>\n",
       "      <th>author</th>\n",
       "    </tr>\n",
       "  </thead>\n",
       "  <tbody>\n",
       "    <tr>\n",
       "      <th>11</th>\n",
       "      <td>https://ciudadseva.com/texto/el-fabulista-y-su...</td>\n",
       "      <td>En la Selva vivía hace mucho tiempo un Fabulis...</td>\n",
       "      <td>El fabulista y sus críticos</td>\n",
       "      <td>[Minicuento - Texto completo.]</td>\n",
       "      <td>Augusto Monterroso</td>\n",
       "    </tr>\n",
       "    <tr>\n",
       "      <th>56</th>\n",
       "      <td>https://ciudadseva.com/texto/el-satiro-sordo/</td>\n",
       "      <td>Habitaba cerca del Olimpo un sátiro, y era el ...</td>\n",
       "      <td>El sátiro sordo</td>\n",
       "      <td>[Cuento - Texto completo.]</td>\n",
       "      <td>Rubén Darío</td>\n",
       "    </tr>\n",
       "  </tbody>\n",
       "</table>\n",
       "</div>"
      ],
      "text/plain": [
       "                                                 link  \\\n",
       "11  https://ciudadseva.com/texto/el-fabulista-y-su...   \n",
       "56      https://ciudadseva.com/texto/el-satiro-sordo/   \n",
       "\n",
       "                                                 text  \\\n",
       "11  En la Selva vivía hace mucho tiempo un Fabulis...   \n",
       "56  Habitaba cerca del Olimpo un sátiro, y era el ...   \n",
       "\n",
       "                          title                        metadata  \\\n",
       "11  El fabulista y sus críticos  [Minicuento - Texto completo.]   \n",
       "56              El sátiro sordo      [Cuento - Texto completo.]   \n",
       "\n",
       "                author  \n",
       "11  Augusto Monterroso  \n",
       "56         Rubén Darío  "
      ]
     },
     "execution_count": 12,
     "metadata": {},
     "output_type": "execute_result"
    }
   ],
   "source": [
    "df.sample(2)"
   ]
  },
  {
   "cell_type": "code",
   "execution_count": 13,
   "id": "0252a9bd-3e1b-446f-93cb-a10fe15f7c82",
   "metadata": {},
   "outputs": [
    {
     "data": {
      "text/plain": [
       "Index(['link', 'text', 'title', 'metadata', 'author'], dtype='object')"
      ]
     },
     "execution_count": 13,
     "metadata": {},
     "output_type": "execute_result"
    }
   ],
   "source": [
    "df.columns"
   ]
  },
  {
   "cell_type": "code",
   "execution_count": 10,
   "id": "d08f7136-a464-49a6-94ca-d336efa808ed",
   "metadata": {},
   "outputs": [
    {
     "data": {
      "text/plain": [
       "719"
      ]
     },
     "execution_count": 10,
     "metadata": {},
     "output_type": "execute_result"
    }
   ],
   "source": [
    "len(df)"
   ]
  },
  {
   "cell_type": "code",
   "execution_count": null,
   "id": "993b6133-25fb-413e-ba3f-4127b72a3ef9",
   "metadata": {},
   "outputs": [],
   "source": [
    "# Todos lxs autores"
   ]
  },
  {
   "cell_type": "code",
   "execution_count": 17,
   "id": "e7e55c15-6e3d-4228-9f8e-a78c36e88375",
   "metadata": {},
   "outputs": [],
   "source": [
    "autorxs = list(df['author'].unique())\n"
   ]
  },
  {
   "cell_type": "code",
   "execution_count": 18,
   "id": "d9ab641e-3c10-4574-ae33-b4e2925fa063",
   "metadata": {},
   "outputs": [
    {
     "data": {
      "text/plain": [
       "58"
      ]
     },
     "execution_count": 18,
     "metadata": {},
     "output_type": "execute_result"
    }
   ],
   "source": [
    "len(autorxs)"
   ]
  },
  {
   "cell_type": "code",
   "execution_count": 19,
   "id": "4ff7018b-d31b-45af-bcf9-6e1a47bed6bb",
   "metadata": {},
   "outputs": [
    {
     "data": {
      "text/plain": [
       "['Augusto Monterroso',\n",
       " 'María Luisa Bombal',\n",
       " 'Rubén Darío',\n",
       " 'Rodolfo Walsh',\n",
       " 'Elena Garro',\n",
       " 'Edmundo Valadés',\n",
       " 'Enrique Anderson Imbert',\n",
       " 'Virgilio Piñera',\n",
       " 'Manuel Romero de Terreros',\n",
       " 'Amparo Dávila',\n",
       " 'Silvina Ocampo',\n",
       " 'Gregorio López y Fuentes',\n",
       " 'Jorge Luis Borges',\n",
       " '[Cuento - Texto completo.]',\n",
       " 'Juan Bosch',\n",
       " 'Manuel A. Alonso',\n",
       " 'Pablo Palacio',\n",
       " 'José Donoso',\n",
       " 'José Lezama Lima',\n",
       " 'Juan Rodolfo Wilcock',\n",
       " 'Eduardo Gudiño Kieffer',\n",
       " 'Rómulo Gallegos',\n",
       " 'Alejo Carpentier',\n",
       " 'Esteban Echeverría',\n",
       " 'Álvaro Mutis',\n",
       " 'Luis Vidales',\n",
       " 'Julio Torri',\n",
       " 'Humberto Arenal',\n",
       " 'Macedonio Fernández',\n",
       " 'Rubén Bareiro Saguier',\n",
       " 'Roberto Arlt',\n",
       " 'Inés Arredondo',\n",
       " 'Virgilio Díaz Grullón',\n",
       " 'Ricardo Jaimes Freyre',\n",
       " 'Felisberto Hernández',\n",
       " 'Alfonso Reyes',\n",
       " 'Salarrué',\n",
       " 'Teresa de la Parra',\n",
       " 'José Edwards',\n",
       " 'Vicente Huidobro',\n",
       " 'Octavio Paz',\n",
       " 'Adolfo Bioy Casares',\n",
       " 'Carmen Lyra',\n",
       " 'Baldomero Lillo',\n",
       " 'Sergio Pitol',\n",
       " 'Santiago Dabove',\n",
       " 'Juan Rulfo',\n",
       " 'José María Arguedas',\n",
       " 'Leonora Carrington',\n",
       " 'Clarice Lispector',\n",
       " 'Julio Cortázar',\n",
       " 'Julio Garmendia',\n",
       " 'Ricardo Güiraldes',\n",
       " 'Juan José Arreola',\n",
       " 'Mario Benedetti',\n",
       " 'Andrés Rivera',\n",
       " 'Manuel González Zeledón',\n",
       " 'Julio Ramón Ribeyro']"
      ]
     },
     "execution_count": 19,
     "metadata": {},
     "output_type": "execute_result"
    }
   ],
   "source": [
    "autorxs"
   ]
  }
 ],
 "metadata": {
  "kernelspec": {
   "display_name": "Python 3 (ipykernel)",
   "language": "python",
   "name": "python3"
  },
  "language_info": {
   "codemirror_mode": {
    "name": "ipython",
    "version": 3
   },
   "file_extension": ".py",
   "mimetype": "text/x-python",
   "name": "python",
   "nbconvert_exporter": "python",
   "pygments_lexer": "ipython3",
   "version": "3.11.9"
  }
 },
 "nbformat": 4,
 "nbformat_minor": 5
}
