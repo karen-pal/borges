{
 "cells": [
  {
   "cell_type": "code",
   "execution_count": 3,
   "metadata": {},
   "outputs": [],
   "source": [
    "import pickle"
   ]
  },
  {
   "cell_type": "code",
   "execution_count": 6,
   "metadata": {},
   "outputs": [
    {
     "name": "stdout",
     "output_type": "stream",
     "text": [
      "Collecting pandas<2.0.0\n",
      "  Downloading pandas-1.5.3-cp311-cp311-manylinux_2_17_x86_64.manylinux2014_x86_64.whl.metadata (11 kB)\n",
      "Requirement already satisfied: python-dateutil>=2.8.1 in /home/kpalacio/micromamba/envs/311/lib/python3.11/site-packages (from pandas<2.0.0) (2.9.0)\n",
      "Requirement already satisfied: pytz>=2020.1 in /home/kpalacio/micromamba/envs/311/lib/python3.11/site-packages (from pandas<2.0.0) (2024.1)\n",
      "Requirement already satisfied: numpy>=1.21.0 in /home/kpalacio/micromamba/envs/311/lib/python3.11/site-packages (from pandas<2.0.0) (1.26.4)\n",
      "Requirement already satisfied: six>=1.5 in /home/kpalacio/micromamba/envs/311/lib/python3.11/site-packages (from python-dateutil>=2.8.1->pandas<2.0.0) (1.16.0)\n",
      "Downloading pandas-1.5.3-cp311-cp311-manylinux_2_17_x86_64.manylinux2014_x86_64.whl (12.0 MB)\n",
      "\u001b[2K   \u001b[38;2;114;156;31m━━━━━━━━━━━━━━━━━━━━━━━━━━━━━━━━━━━━━━━━\u001b[0m \u001b[32m12.0/12.0 MB\u001b[0m \u001b[31m6.9 MB/s\u001b[0m eta \u001b[36m0:00:00\u001b[0m[31m7.2 MB/s\u001b[0m eta \u001b[36m0:00:01\u001b[0m\n",
      "\u001b[?25hInstalling collected packages: pandas\n",
      "  Attempting uninstall: pandas\n",
      "    Found existing installation: pandas 2.2.2\n",
      "    Uninstalling pandas-2.2.2:\n",
      "      Successfully uninstalled pandas-2.2.2\n",
      "Successfully installed pandas-1.5.3\n"
     ]
    }
   ],
   "source": [
    "# important dependency\n",
    "# !pip install \"pandas<2.0.0\""
   ]
  },
  {
   "cell_type": "code",
   "execution_count": 7,
   "metadata": {},
   "outputs": [],
   "source": [
    "with open('./datasets/datasets_pkl/sents_borges.pkl', 'rb') as f:\n",
    "   sentiments = pickle.load(f)"
   ]
  },
  {
   "cell_type": "code",
   "execution_count": 8,
   "metadata": {},
   "outputs": [
    {
     "name": "stderr",
     "output_type": "stream",
     "text": [
      "/home/kpalacio/micromamba/envs/311/lib/python3.11/site-packages/IPython/core/formatters.py:347: FutureWarning: Index.format is deprecated and will be removed in a future version. Convert using index.astype(str) or index.map(formatter) instead.\n",
      "  return method()\n",
      "/home/kpalacio/micromamba/envs/311/lib/python3.11/site-packages/IPython/core/formatters.py:347: FutureWarning: Int64Index.format is deprecated and will be removed in a future version. Convert using index.astype(str) or index.map(formatter) instead.\n",
      "  return method()\n"
     ]
    },
    {
     "data": {
      "text/html": [
       "<div>\n",
       "<style scoped>\n",
       "    .dataframe tbody tr th:only-of-type {\n",
       "        vertical-align: middle;\n",
       "    }\n",
       "\n",
       "    .dataframe tbody tr th {\n",
       "        vertical-align: top;\n",
       "    }\n",
       "\n",
       "    .dataframe thead th {\n",
       "        text-align: right;\n",
       "    }\n",
       "</style>\n",
       "<table border=\"1\" class=\"dataframe\">\n",
       "  <thead>\n",
       "    <tr style=\"text-align: right;\">\n",
       "      <th></th>\n",
       "      <th>sentence</th>\n",
       "      <th>sent_score</th>\n",
       "    </tr>\n",
       "  </thead>\n",
       "  <tbody>\n",
       "    <tr>\n",
       "      <th>0</th>\n",
       "      <td>Los años le han dejado unas palabras en guaran...</td>\n",
       "      <td>0.0000</td>\n",
       "    </tr>\n",
       "    <tr>\n",
       "      <th>1</th>\n",
       "      <td>No es bebedor, pero suele achisparse los sábad...</td>\n",
       "      <td>0.0000</td>\n",
       "    </tr>\n",
       "    <tr>\n",
       "      <th>2</th>\n",
       "      <td>No tiene catre. Duerme sobre el recado y no sa...</td>\n",
       "      <td>0.0000</td>\n",
       "    </tr>\n",
       "    <tr>\n",
       "      <th>3</th>\n",
       "      <td>Nunca lo ascenderán. No debe llamar la atenció...</td>\n",
       "      <td>0.0018</td>\n",
       "    </tr>\n",
       "    <tr>\n",
       "      <th>4</th>\n",
       "      <td>Es amigo de un indio.</td>\n",
       "      <td>0.0497</td>\n",
       "    </tr>\n",
       "    <tr>\n",
       "      <th>5</th>\n",
       "      <td>FIN</td>\n",
       "      <td>0.5069</td>\n",
       "    </tr>\n",
       "  </tbody>\n",
       "</table>\n",
       "</div>"
      ],
      "text/plain": [
       "                                            sentence  sent_score\n",
       "0  Los años le han dejado unas palabras en guaran...      0.0000\n",
       "1  No es bebedor, pero suele achisparse los sábad...      0.0000\n",
       "2  No tiene catre. Duerme sobre el recado y no sa...      0.0000\n",
       "3  Nunca lo ascenderán. No debe llamar la atenció...      0.0018\n",
       "4                              Es amigo de un indio.      0.0497\n",
       "5                                                FIN      0.5069"
      ]
     },
     "execution_count": 8,
     "metadata": {},
     "output_type": "execute_result"
    }
   ],
   "source": [
    "sentiments[3]\n"
   ]
  },
  {
   "cell_type": "code",
   "execution_count": 9,
   "metadata": {},
   "outputs": [],
   "source": [
    "with open('./datasets/datasets_pkl/borges_full_texts.pkl', 'rb') as f:\n",
    "   borges = pickle.load(f)"
   ]
  },
  {
   "cell_type": "code",
   "execution_count": 21,
   "metadata": {},
   "outputs": [
    {
     "name": "stderr",
     "output_type": "stream",
     "text": [
      "/home/kpalacio/micromamba/envs/311/lib/python3.11/site-packages/IPython/core/formatters.py:347: FutureWarning: Index.format is deprecated and will be removed in a future version. Convert using index.astype(str) or index.map(formatter) instead.\n",
      "  return method()\n"
     ]
    },
    {
     "data": {
      "text/html": [
       "<div>\n",
       "<style scoped>\n",
       "    .dataframe tbody tr th:only-of-type {\n",
       "        vertical-align: middle;\n",
       "    }\n",
       "\n",
       "    .dataframe tbody tr th {\n",
       "        vertical-align: top;\n",
       "    }\n",
       "\n",
       "    .dataframe thead th {\n",
       "        text-align: right;\n",
       "    }\n",
       "</style>\n",
       "<table border=\"1\" class=\"dataframe\">\n",
       "  <thead>\n",
       "    <tr style=\"text-align: right;\">\n",
       "      <th></th>\n",
       "      <th>link</th>\n",
       "      <th>text_metadata</th>\n",
       "      <th>text</th>\n",
       "    </tr>\n",
       "  </thead>\n",
       "  <tbody>\n",
       "    <tr>\n",
       "      <th>10</th>\n",
       "      <td>https://ciudadseva.com/texto/el-adivino-2/</td>\n",
       "      <td>{'title': 'El adivino', 'metadata': '[Minicuen...</td>\n",
       "      <td>En Sumatra, alguien quiere doctorarse de adivi...</td>\n",
       "    </tr>\n",
       "    <tr>\n",
       "      <th>37</th>\n",
       "      <td>https://ciudadseva.com/texto/la-escritura-del-...</td>\n",
       "      <td>{'title': 'La escritura del dios', 'metadata':...</td>\n",
       "      <td>La cárcel es profunda y de piedra; su forma, l...</td>\n",
       "    </tr>\n",
       "    <tr>\n",
       "      <th>6</th>\n",
       "      <td>https://ciudadseva.com/texto/biografia-de-tade...</td>\n",
       "      <td>{'title': 'Biografía de Tadeo Isidoro Cruz', '...</td>\n",
       "      <td>El seis de febrero de 1829, los montoneros que...</td>\n",
       "    </tr>\n",
       "  </tbody>\n",
       "</table>\n",
       "</div>"
      ],
      "text/plain": [
       "                                                 link   \n",
       "10         https://ciudadseva.com/texto/el-adivino-2/  \\\n",
       "37  https://ciudadseva.com/texto/la-escritura-del-...   \n",
       "6   https://ciudadseva.com/texto/biografia-de-tade...   \n",
       "\n",
       "                                        text_metadata   \n",
       "10  {'title': 'El adivino', 'metadata': '[Minicuen...  \\\n",
       "37  {'title': 'La escritura del dios', 'metadata':...   \n",
       "6   {'title': 'Biografía de Tadeo Isidoro Cruz', '...   \n",
       "\n",
       "                                                 text  \n",
       "10  En Sumatra, alguien quiere doctorarse de adivi...  \n",
       "37  La cárcel es profunda y de piedra; su forma, l...  \n",
       "6   El seis de febrero de 1829, los montoneros que...  "
      ]
     },
     "execution_count": 21,
     "metadata": {},
     "output_type": "execute_result"
    }
   ],
   "source": [
    "borges.sample(3)"
   ]
  },
  {
   "cell_type": "code",
   "execution_count": 18,
   "metadata": {},
   "outputs": [
    {
     "data": {
      "text/plain": [
       "'Los años le han dejado unas palabras en guaraní, que sabe usar cuando la ocasión lo requiere, pero que no podría traducir sin algún trabajo. Los otros soldados lo aceptan, pero algunos (no todos) sienten que algo ajeno hay en él, como si fuera hereje o infiel o padeciera un mal. Este rechazo lo fastidia menos que el interés de los reclutas. No es bebedor, pero suele achisparse los sábados. Tiene la costumbre del mate, que puebla de algún modo la soledad. Las mujeres no lo quieren y él no las busca. Tiene un hijo en Dolores. Hace años que no sabe nada de él, a la manera de la gente sencilla que no se escribe. No es hombre de buena conversación, pero suele contar, siempre con las mismas palabras, aquella larga marcha de tantas leguas desde Junín hasta San Carlos.Quizá la cuenta con las mismas palabras, porque las sabe de memoria y ha olvidado los hechos. No tiene catre. Duerme sobre el recado y no sabe qué cosa es la pesadilla. Tiene la conciencia tranquila. Se ha limitado a cumplir órdenes. Goza de la confianza de sus jefes. Es el degollador. Ha perdido la cuenta de las veces que ha visto el alba en el desierto. Ha perdido la cuenta de las gargantas, pero no olvidará la primera y los visajes que hizo el pampa. Nunca lo ascenderán. No debe llamar la atención. En su provincia fue domador. Ya es incapaz de jinetear un bagual, pero le gustan los caballos y los entiende. Es amigo de un indio. FIN'"
      ]
     },
     "execution_count": 18,
     "metadata": {},
     "output_type": "execute_result"
    }
   ],
   "source": [
    "#borges.head()\n",
    "texts = borges[\"text\"]\n",
    "texts.iloc[3]"
   ]
  },
  {
   "cell_type": "code",
   "execution_count": 11,
   "metadata": {},
   "outputs": [],
   "source": [
    "with open('./datasets/datasets_pkl/ruben_dario_full_texts.pkl', 'rb') as f:\n",
    "   ocampo = pickle.load(f)"
   ]
  },
  {
   "cell_type": "code",
   "execution_count": 12,
   "metadata": {},
   "outputs": [
    {
     "data": {
      "text/plain": [
       "{'title': 'Aguafuerte',\n",
       " 'metadata': '[Minicuento - Texto completo.]',\n",
       " 'author': 'Rubén Darío'}"
      ]
     },
     "execution_count": 12,
     "metadata": {},
     "output_type": "execute_result"
    }
   ],
   "source": [
    "ocampo[\"text_metadata\"].iloc[0]"
   ]
  },
  {
   "cell_type": "code",
   "execution_count": 13,
   "metadata": {},
   "outputs": [],
   "source": [
    "with open('./datasets/datasets_pkl/carrington_full_texts.pkl', 'rb') as f:\n",
    "   carrington = pickle.load(f)"
   ]
  },
  {
   "cell_type": "code",
   "execution_count": 14,
   "metadata": {},
   "outputs": [
    {
     "data": {
      "text/plain": [
       "'En la época en que fui debutante, so'"
      ]
     },
     "execution_count": 14,
     "metadata": {},
     "output_type": "execute_result"
    }
   ],
   "source": [
    "carrington.iloc[0].text[:36]"
   ]
  },
  {
   "cell_type": "code",
   "execution_count": 22,
   "metadata": {},
   "outputs": [],
   "source": [
    "### Retomando Sent Analysis"
   ]
  },
  {
   "cell_type": "code",
   "execution_count": 51,
   "metadata": {},
   "outputs": [],
   "source": [
    "import pandas as pd\n",
    "\n",
    "negativas = pd.DataFrame(columns=[\"sentence\", \"sent_score\", \"title\"])\n",
    "positivas = pd.DataFrame(columns=[\"sentence\", \"sent_score\", \"title\"])\n",
    "neutrales = pd.DataFrame(columns=[\"sentence\", \"sent_score\", \"title\"])\n",
    "for i,df in enumerate(sentiments):\n",
    "    negativas[\"sentence\"] = df[df['sent_score'] < 0.5][\"sentence\"].copy()\n",
    "    negativas[\"sent_score\"] = df[df['sent_score'] < 0.5][\"sent_score\"].copy()\n",
    "    negativas[\"title\"] = borges['text_metadata'].iloc[i]\n",
    "\n",
    "    positivas[\"sentence\"] = df[df['sent_score'] > 0.5][\"sentence\"].copy()\n",
    "    positivas[\"sent_score\"] = df[df['sent_score'] > 0.5][\"sent_score\"].copy()\n",
    "    positivas[\"title\"] = borges['text_metadata'].iloc[i]\n",
    "\n",
    "    #neutrales = df[df['sent_score'] == 0.5].copy()\n",
    "    #positivas = df[df['sent_score'] > 0.5].copy()\n"
   ]
  },
  {
   "cell_type": "code",
   "execution_count": 52,
   "metadata": {},
   "outputs": [
    {
     "name": "stderr",
     "output_type": "stream",
     "text": [
      "/home/kpalacio/micromamba/envs/311/lib/python3.11/site-packages/IPython/core/formatters.py:347: FutureWarning: Index.format is deprecated and will be removed in a future version. Convert using index.astype(str) or index.map(formatter) instead.\n",
      "  return method()\n",
      "/home/kpalacio/micromamba/envs/311/lib/python3.11/site-packages/IPython/core/formatters.py:347: FutureWarning: Int64Index.format is deprecated and will be removed in a future version. Convert using index.astype(str) or index.map(formatter) instead.\n",
      "  return method()\n"
     ]
    },
    {
     "data": {
      "text/html": [
       "<div>\n",
       "<style scoped>\n",
       "    .dataframe tbody tr th:only-of-type {\n",
       "        vertical-align: middle;\n",
       "    }\n",
       "\n",
       "    .dataframe tbody tr th {\n",
       "        vertical-align: top;\n",
       "    }\n",
       "\n",
       "    .dataframe thead th {\n",
       "        text-align: right;\n",
       "    }\n",
       "</style>\n",
       "<table border=\"1\" class=\"dataframe\">\n",
       "  <thead>\n",
       "    <tr style=\"text-align: right;\">\n",
       "      <th></th>\n",
       "      <th>sentence</th>\n",
       "      <th>sent_score</th>\n",
       "      <th>title</th>\n",
       "    </tr>\n",
       "  </thead>\n",
       "  <tbody>\n",
       "    <tr>\n",
       "      <th>2</th>\n",
       "      <td>Y cerca del Brasil,</td>\n",
       "      <td>0.5056</td>\n",
       "      <td>NaN</td>\n",
       "    </tr>\n",
       "    <tr>\n",
       "      <th>3</th>\n",
       "      <td>que van creciendo y agrandándose.</td>\n",
       "      <td>0.5047</td>\n",
       "      <td>NaN</td>\n",
       "    </tr>\n",
       "    <tr>\n",
       "      <th>4</th>\n",
       "      <td>NaN</td>\n",
       "      <td>NaN</td>\n",
       "      <td>NaN</td>\n",
       "    </tr>\n",
       "    <tr>\n",
       "      <th>6</th>\n",
       "      <td>NaN</td>\n",
       "      <td>NaN</td>\n",
       "      <td>NaN</td>\n",
       "    </tr>\n",
       "  </tbody>\n",
       "</table>\n",
       "</div>"
      ],
      "text/plain": [
       "                            sentence  sent_score title\n",
       "2                Y cerca del Brasil,      0.5056   NaN\n",
       "3  que van creciendo y agrandándose.      0.5047   NaN\n",
       "4                                NaN         NaN   NaN\n",
       "6                                NaN         NaN   NaN"
      ]
     },
     "execution_count": 52,
     "metadata": {},
     "output_type": "execute_result"
    }
   ],
   "source": [
    "positivas"
   ]
  },
  {
   "cell_type": "code",
   "execution_count": 60,
   "metadata": {},
   "outputs": [
    {
     "name": "stderr",
     "output_type": "stream",
     "text": [
      "/home/kpalacio/micromamba/envs/311/lib/python3.11/site-packages/IPython/core/formatters.py:347: FutureWarning: Index.format is deprecated and will be removed in a future version. Convert using index.astype(str) or index.map(formatter) instead.\n",
      "  return method()\n",
      "/home/kpalacio/micromamba/envs/311/lib/python3.11/site-packages/IPython/core/formatters.py:347: FutureWarning: Int64Index.format is deprecated and will be removed in a future version. Convert using index.astype(str) or index.map(formatter) instead.\n",
      "  return method()\n"
     ]
    },
    {
     "data": {
      "text/html": [
       "<div>\n",
       "<style scoped>\n",
       "    .dataframe tbody tr th:only-of-type {\n",
       "        vertical-align: middle;\n",
       "    }\n",
       "\n",
       "    .dataframe tbody tr th {\n",
       "        vertical-align: top;\n",
       "    }\n",
       "\n",
       "    .dataframe thead th {\n",
       "        text-align: right;\n",
       "    }\n",
       "</style>\n",
       "<table border=\"1\" class=\"dataframe\">\n",
       "  <thead>\n",
       "    <tr style=\"text-align: right;\">\n",
       "      <th></th>\n",
       "      <th>sentence</th>\n",
       "      <th>sent_score</th>\n",
       "    </tr>\n",
       "  </thead>\n",
       "  <tbody>\n",
       "    <tr>\n",
       "      <th>0</th>\n",
       "      <td>Abel y Caín se encontraron después de la muert...</td>\n",
       "      <td>0.0000</td>\n",
       "    </tr>\n",
       "    <tr>\n",
       "      <th>1</th>\n",
       "      <td>Abel contestó:</td>\n",
       "      <td>0.3576</td>\n",
       "    </tr>\n",
       "    <tr>\n",
       "      <th>2</th>\n",
       "      <td>—¿Tú me has matado o yo te he matado? Ya no re...</td>\n",
       "      <td>0.5048</td>\n",
       "    </tr>\n",
       "    <tr>\n",
       "      <th>3</th>\n",
       "      <td>—Ahora sé que en verdad me has perdonado —dijo...</td>\n",
       "      <td>0.8634</td>\n",
       "    </tr>\n",
       "    <tr>\n",
       "      <th>4</th>\n",
       "      <td>Abel dijo despacio:</td>\n",
       "      <td>0.5047</td>\n",
       "    </tr>\n",
       "    <tr>\n",
       "      <th>5</th>\n",
       "      <td>—Así es. Mientras dura el remordimiento dura l...</td>\n",
       "      <td>0.2516</td>\n",
       "    </tr>\n",
       "    <tr>\n",
       "      <th>6</th>\n",
       "      <td>FIN</td>\n",
       "      <td>0.5069</td>\n",
       "    </tr>\n",
       "  </tbody>\n",
       "</table>\n",
       "</div>"
      ],
      "text/plain": [
       "                                            sentence  sent_score\n",
       "0  Abel y Caín se encontraron después de la muert...      0.0000\n",
       "1                                     Abel contestó:      0.3576\n",
       "2  —¿Tú me has matado o yo te he matado? Ya no re...      0.5048\n",
       "3  —Ahora sé que en verdad me has perdonado —dijo...      0.8634\n",
       "4                                Abel dijo despacio:      0.5047\n",
       "5  —Así es. Mientras dura el remordimiento dura l...      0.2516\n",
       "6                                                FIN      0.5069"
      ]
     },
     "execution_count": 60,
     "metadata": {},
     "output_type": "execute_result"
    }
   ],
   "source": [
    "sentiments[0]"
   ]
  },
  {
   "cell_type": "code",
   "execution_count": 55,
   "metadata": {},
   "outputs": [
    {
     "name": "stdout",
     "output_type": "stream",
     "text": [
      "{'title': 'Abel y Caín', 'metadata': '[Minicuento - Texto completo.]', 'author': 'Jorge Luis Borges'}\n",
      "{'title': 'Adrogué', 'metadata': '[Minicuento - Texto completo.]', 'author': 'Jorge Luis Borges'}\n",
      "{'title': 'Alguien soñará', 'metadata': '[Minicuento - Texto completo.]', 'author': 'Jorge Luis Borges'}\n",
      "{'title': 'Andrés Armoa', 'metadata': '[Minicuento - Texto completo.]', 'author': 'Jorge Luis Borges'}\n",
      "{'title': 'Argumentum ornithologicum', 'metadata': '[Minicuento - Texto completo.]', 'author': 'Jorge Luis Borges'}\n",
      "{'title': 'Biografía de Tadeo Isidoro Cruz', 'metadata': '(1829-1874)', 'author': '[Cuento - Texto completo.]'}\n",
      "{'title': 'Biografía de Tadeo Isidoro Cruz', 'metadata': '(1829-1874)', 'author': '[Cuento - Texto completo.]'}\n",
      "{'title': 'Del Rigor en la Ciencia', 'metadata': '[Minicuento - Texto completo.]', 'author': 'Jorge Luis Borges'}\n",
      "{'title': 'Diálogo sobre un diálogo', 'metadata': '[Minicuento - Texto completo.]', 'author': 'Jorge Luis Borges'}\n",
      "{'title': 'El acercamiento a Almotásim', 'metadata': '[Cuento - Texto completo.]', 'author': 'Jorge Luis Borges'}\n",
      "{'title': 'El adivino', 'metadata': '[Minicuento - Texto completo.]', 'author': 'Jorge Luis Borges'}\n",
      "{'title': 'El Aleph', 'metadata': '[Cuento - Texto completo.]', 'author': 'Jorge Luis Borges'}\n",
      "{'title': 'El cautivo', 'metadata': '[Minicuento - Texto completo.]', 'author': 'Jorge Luis Borges'}\n",
      "{'title': 'El evangelio según Marcos', 'metadata': '[Cuento - Texto completo.]', 'author': 'Jorge Luis Borges'}\n",
      "{'title': 'El fin', 'metadata': '[Cuento - Texto completo.]', 'author': 'Jorge Luis Borges'}\n",
      "{'title': 'El informe de Brodie', 'metadata': '[Cuento - Texto completo.]', 'author': 'Jorge Luis Borges'}\n",
      "{'title': 'El inmortal', 'metadata': '[Cuento - Texto completo.]', 'author': 'Jorge Luis Borges'}\n",
      "{'title': 'El jardín de los senderos que se bifurcan', 'metadata': '[Cuento - Texto completo.]', 'author': 'Jorge Luis Borges'}\n",
      "{'title': 'El libro de arena', 'metadata': '[Cuento - Texto completo.]', 'author': 'Jorge Luis Borges'}\n",
      "{'title': 'El milagro secreto', 'metadata': '[Cuento - Texto completo.]', 'author': 'Jorge Luis Borges'}\n",
      "{'title': 'El muerto', 'metadata': '[Cuento - Texto completo.]', 'author': 'Jorge Luis Borges'}\n",
      "{'title': 'El Palacio', 'metadata': '[Minicuento - Texto completo.]', 'author': 'Jorge Luis Borges'}\n",
      "{'title': 'El perro de doble cuerpo', 'metadata': '[Minicuento - Texto completo.]', 'author': 'Jorge Luis Borges'}\n",
      "{'title': 'El puñal', 'metadata': '[Minicuento - Texto completo.]', 'author': 'Jorge Luis Borges'}\n",
      "{'title': 'El sur', 'metadata': '[Cuento - Texto completo.]', 'author': 'Jorge Luis Borges'}\n",
      "{'title': 'Emma Zunz', 'metadata': '[Cuento - Texto completo.]', 'author': 'Jorge Luis Borges'}\n",
      "{'title': 'Episodio del enemigo', 'metadata': '[Minicuento - Texto completo.]', 'author': 'Jorge Luis Borges'}\n",
      "{'title': 'Examen de la obra de Herbert Quain', 'metadata': '[Cuento - Texto completo.]', 'author': 'Jorge Luis Borges'}\n",
      "{'title': 'Funes el memorioso', 'metadata': '[Cuento - Texto completo.]', 'author': 'Jorge Luis Borges'}\n",
      "{'title': 'Historia de Rosendo Juárez', 'metadata': '[Cuento - Texto completo.]', 'author': 'Jorge Luis Borges'}\n",
      "{'title': 'Historia del guerrero y de la cautiva', 'metadata': '[Cuento - Texto completo.]', 'author': 'Jorge Luis Borges'}\n",
      "{'title': 'Hombre de la esquina rosada', 'metadata': '[Cuento - Texto completo.]', 'author': 'Jorge Luis Borges'}\n",
      "{'title': 'Ictiocentauros', 'metadata': '[Minicuento - Texto completo.]', 'author': 'Jorge Luis Borges'}\n",
      "{'title': 'Juan Muraña', 'metadata': '[Cuento - Texto completo.]', 'author': 'Jorge Luis Borges'}\n",
      "{'title': 'La biblioteca de Babel', 'metadata': '[Cuento - Texto completo.]', 'author': 'Jorge Luis Borges'}\n",
      "{'title': 'La biblioteca total', 'metadata': '[Cuento - Texto completo.]', 'author': 'Jorge Luis Borges'}\n",
      "{'title': 'La casa de Asterión', 'metadata': '[Cuento - Texto completo.]', 'author': 'Jorge Luis Borges'}\n",
      "{'title': 'La escritura del dios', 'metadata': '[Cuento - Texto completo.]', 'author': 'Jorge Luis Borges'}\n",
      "{'title': 'La forma de la espada', 'metadata': '[Cuento - Texto completo.]', 'author': 'Jorge Luis Borges'}\n",
      "{'title': 'La intrusa', 'metadata': '[Cuento - Texto completo.]', 'author': 'Jorge Luis Borges'}\n",
      "{'title': 'La larga busca', 'metadata': '[Minicuento - Texto completo.]', 'author': 'Jorge Luis Borges'}\n",
      "{'title': 'La lotería en Babilonia', 'metadata': '[Cuento - Texto completo.]', 'author': 'Jorge Luis Borges'}\n",
      "{'title': 'La muerte y la brújula', 'metadata': '[Cuento - Texto completo.]', 'author': 'Jorge Luis Borges'}\n",
      "{'title': 'La otra muerte', 'metadata': '[Cuento - Texto completo.]', 'author': 'Jorge Luis Borges'}\n",
      "{'title': 'La peluda', 'metadata': '[Minicuento - Texto completo.]', 'author': 'Jorge Luis Borges'}\n",
      "{'title': 'La secta de los treinta', 'metadata': '[Cuento - Texto completo.]', 'author': 'Jorge Luis Borges'}\n",
      "{'title': 'La trama', 'metadata': '[Minicuento - Texto completo.]', 'author': 'Jorge Luis Borges'}\n",
      "{'title': 'Las ruinas circulares', 'metadata': '[Cuento - Texto completo.]', 'author': 'Jorge Luis Borges'}\n",
      "{'title': 'Le régret d’Héraclite', 'metadata': '[Minicuento - Texto completo.]', 'author': 'Jorge Luis Borges'}\n",
      "{'title': 'Los dos reyes y los dos laberintos', 'metadata': '[Minicuento - Texto completo.]', 'author': 'Jorge Luis Borges'}\n",
      "{'title': 'Los hrönir de Tlön', 'metadata': '[Minicuento - Texto completo.]', 'author': 'Jorge Luis Borges'}\n",
      "{'title': 'Los teólogos', 'metadata': '[Cuento - Texto completo.]', 'author': 'Jorge Luis Borges'}\n",
      "{'title': 'Mutaciones', 'metadata': '[Minicuento - Texto completo.]', 'author': 'Jorge Luis Borges'}\n",
      "{'title': 'Odín', 'metadata': '[Minicuento - Texto completo.]', 'author': 'Jorge Luis Borges'}\n",
      "{'title': 'Parábola de Cervantes y de Quijote', 'metadata': '[Minicuento - Texto completo.]', 'author': 'Jorge Luis Borges'}\n",
      "{'title': 'Pierre Menard, autor del Quijote', 'metadata': '[Cuento - Texto completo.]', 'author': 'Jorge Luis Borges'}\n",
      "{'title': 'Tema del traidor y del héroe', 'metadata': '[Cuento - Texto completo.]', 'author': 'Jorge Luis Borges'}\n",
      "{'title': 'Tlön, Uqbar, Orbis Tertius', 'metadata': '[Cuento - Texto completo.]', 'author': 'Jorge Luis Borges'}\n",
      "{'title': 'Tres versiones de Judas', 'metadata': '[Cuento - Texto completo.]', 'author': 'Jorge Luis Borges'}\n",
      "{'title': 'Un problema', 'metadata': '[Minicuento - Texto completo.]', 'author': 'Jorge Luis Borges'}\n",
      "{'title': 'Un sueño', 'metadata': '[Minicuento - Texto completo.]', 'author': 'Jorge Luis Borges'}\n",
      "{'title': 'Utopía de un hombre que está cansado', 'metadata': '[Cuento - Texto completo.]', 'author': 'Jorge Luis Borges'}\n"
     ]
    }
   ],
   "source": [
    "import pandas as pd\n",
    "\n",
    "# Listas para almacenar las oraciones divididas\n",
    "negativas_list = []\n",
    "neutrales_list = []\n",
    "positivas_list = []\n",
    "\n",
    "# Verifica el tamaño de sentiments y borges\n",
    "assert len(sentiments) == len(borges), \"El número de elementos en sentiments y borges no coincide.\"\n",
    "\n",
    "# Iterar sobre cada elemento de sentiments\n",
    "for i, df in enumerate(sentiments):\n",
    "    # Filtrar oraciones negativas, neutrales y positivas\n",
    "    negativas = df[df['sent_score'] < 0.5].copy()\n",
    "    neutrales = df[df['sent_score'] == 0.5].copy()\n",
    "    positivas = df[df['sent_score'] > 0.5].copy()\n",
    "    \n",
    "    print(borges['text_metadata'].iloc[i])\n",
    "\n",
    "    \n",
    "    # Agregar al conjunto final de DataFrames\n",
    "    negativas_list.append(negativas)\n",
    "    neutrales_list.append(neutrales)\n",
    "    positivas_list.append(positivas)\n",
    "\n",
    "# Concatenar todas las oraciones negativas, neutrales y positivas en tres DataFrames\n",
    "#negativas_df = pd.concat(negativas_list, ignore_index=True)\n",
    "#neutrales_df = pd.concat(neutrales_list, ignore_index=True)\n",
    "#positivas_df = pd.concat(positivas_list, ignore_index=True)\n",
    "\n",
    "# Verifica si hay valores NaN en la metadata después de concatenar\n",
    "#assert negativas_df['metadata'].notna().all(), \"Se encontraron valores NaN en la metadata de negativas_df.\"\n",
    "#assert neutrales_df['metadata'].notna().all(), \"Se encontraron valores NaN en la metadata de neutrales_df.\"\n",
    "#assert positivas_df['metadata'].notna().all(), \"Se encontraron valores NaN en la metadata de positivas_df.\"\n",
    "\n",
    "# Guardar los DataFrames resultantes\n",
    "#negativas_df.to_csv('negativas.csv', index=False)\n",
    "#neutrales_df.to_csv('neutrales.csv', index=False)\n",
    "#positivas_df.to_csv('positivas.csv', index=False)\n",
    "\n",
    "# También podrías guardarlos como pickle si prefieres\n",
    "#negativas_df.to_pickle('negativas.pkl')\n",
    "#neutrales_df.to_pickle('neutrales.pkl')\n",
    "#positivas_df.to_pickle('positivas.pkl')"
   ]
  },
  {
   "cell_type": "code",
   "execution_count": 29,
   "metadata": {},
   "outputs": [
    {
     "data": {
      "text/plain": [
       "True"
      ]
     },
     "execution_count": 29,
     "metadata": {},
     "output_type": "execute_result"
    }
   ],
   "source": [
    "len(sentiments) == len(borges)\n"
   ]
  },
  {
   "cell_type": "code",
   "execution_count": 62,
   "metadata": {},
   "outputs": [
    {
     "name": "stderr",
     "output_type": "stream",
     "text": [
      "/home/kpalacio/micromamba/envs/311/lib/python3.11/site-packages/IPython/core/formatters.py:347: FutureWarning: Index.format is deprecated and will be removed in a future version. Convert using index.astype(str) or index.map(formatter) instead.\n",
      "  return method()\n"
     ]
    },
    {
     "data": {
      "text/html": [
       "<div>\n",
       "<style scoped>\n",
       "    .dataframe tbody tr th:only-of-type {\n",
       "        vertical-align: middle;\n",
       "    }\n",
       "\n",
       "    .dataframe tbody tr th {\n",
       "        vertical-align: top;\n",
       "    }\n",
       "\n",
       "    .dataframe thead th {\n",
       "        text-align: right;\n",
       "    }\n",
       "</style>\n",
       "<table border=\"1\" class=\"dataframe\">\n",
       "  <thead>\n",
       "    <tr style=\"text-align: right;\">\n",
       "      <th></th>\n",
       "      <th>sent_score</th>\n",
       "    </tr>\n",
       "  </thead>\n",
       "  <tbody>\n",
       "    <tr>\n",
       "      <th>count</th>\n",
       "      <td>46.000000</td>\n",
       "    </tr>\n",
       "    <tr>\n",
       "      <th>mean</th>\n",
       "      <td>0.087957</td>\n",
       "    </tr>\n",
       "    <tr>\n",
       "      <th>std</th>\n",
       "      <td>0.149115</td>\n",
       "    </tr>\n",
       "    <tr>\n",
       "      <th>min</th>\n",
       "      <td>0.000000</td>\n",
       "    </tr>\n",
       "    <tr>\n",
       "      <th>25%</th>\n",
       "      <td>0.000000</td>\n",
       "    </tr>\n",
       "    <tr>\n",
       "      <th>50%</th>\n",
       "      <td>0.000700</td>\n",
       "    </tr>\n",
       "    <tr>\n",
       "      <th>75%</th>\n",
       "      <td>0.131525</td>\n",
       "    </tr>\n",
       "    <tr>\n",
       "      <th>max</th>\n",
       "      <td>0.490400</td>\n",
       "    </tr>\n",
       "  </tbody>\n",
       "</table>\n",
       "</div>"
      ],
      "text/plain": [
       "       sent_score\n",
       "count   46.000000\n",
       "mean     0.087957\n",
       "std      0.149115\n",
       "min      0.000000\n",
       "25%      0.000000\n",
       "50%      0.000700\n",
       "75%      0.131525\n",
       "max      0.490400"
      ]
     },
     "execution_count": 62,
     "metadata": {},
     "output_type": "execute_result"
    }
   ],
   "source": [
    "negativas.describe()"
   ]
  },
  {
   "cell_type": "code",
   "execution_count": 63,
   "metadata": {},
   "outputs": [
    {
     "name": "stderr",
     "output_type": "stream",
     "text": [
      "/home/kpalacio/micromamba/envs/311/lib/python3.11/site-packages/IPython/core/formatters.py:347: FutureWarning: Index.format is deprecated and will be removed in a future version. Convert using index.astype(str) or index.map(formatter) instead.\n",
      "  return method()\n"
     ]
    },
    {
     "data": {
      "text/html": [
       "<div>\n",
       "<style scoped>\n",
       "    .dataframe tbody tr th:only-of-type {\n",
       "        vertical-align: middle;\n",
       "    }\n",
       "\n",
       "    .dataframe tbody tr th {\n",
       "        vertical-align: top;\n",
       "    }\n",
       "\n",
       "    .dataframe thead th {\n",
       "        text-align: right;\n",
       "    }\n",
       "</style>\n",
       "<table border=\"1\" class=\"dataframe\">\n",
       "  <thead>\n",
       "    <tr style=\"text-align: right;\">\n",
       "      <th></th>\n",
       "      <th>sent_score</th>\n",
       "    </tr>\n",
       "  </thead>\n",
       "  <tbody>\n",
       "    <tr>\n",
       "      <th>count</th>\n",
       "      <td>29.000000</td>\n",
       "    </tr>\n",
       "    <tr>\n",
       "      <th>mean</th>\n",
       "      <td>0.568528</td>\n",
       "    </tr>\n",
       "    <tr>\n",
       "      <th>std</th>\n",
       "      <td>0.139492</td>\n",
       "    </tr>\n",
       "    <tr>\n",
       "      <th>min</th>\n",
       "      <td>0.502600</td>\n",
       "    </tr>\n",
       "    <tr>\n",
       "      <th>25%</th>\n",
       "      <td>0.504700</td>\n",
       "    </tr>\n",
       "    <tr>\n",
       "      <th>50%</th>\n",
       "      <td>0.504900</td>\n",
       "    </tr>\n",
       "    <tr>\n",
       "      <th>75%</th>\n",
       "      <td>0.511600</td>\n",
       "    </tr>\n",
       "    <tr>\n",
       "      <th>max</th>\n",
       "      <td>0.999900</td>\n",
       "    </tr>\n",
       "  </tbody>\n",
       "</table>\n",
       "</div>"
      ],
      "text/plain": [
       "       sent_score\n",
       "count   29.000000\n",
       "mean     0.568528\n",
       "std      0.139492\n",
       "min      0.502600\n",
       "25%      0.504700\n",
       "50%      0.504900\n",
       "75%      0.511600\n",
       "max      0.999900"
      ]
     },
     "execution_count": 63,
     "metadata": {},
     "output_type": "execute_result"
    }
   ],
   "source": [
    "positivas.describe()"
   ]
  },
  {
   "cell_type": "code",
   "execution_count": 65,
   "metadata": {},
   "outputs": [
    {
     "name": "stderr",
     "output_type": "stream",
     "text": [
      "/home/kpalacio/micromamba/envs/311/lib/python3.11/site-packages/IPython/core/formatters.py:347: FutureWarning: Index.format is deprecated and will be removed in a future version. Convert using index.astype(str) or index.map(formatter) instead.\n",
      "  return method()\n"
     ]
    },
    {
     "data": {
      "text/html": [
       "<div>\n",
       "<style scoped>\n",
       "    .dataframe tbody tr th:only-of-type {\n",
       "        vertical-align: middle;\n",
       "    }\n",
       "\n",
       "    .dataframe tbody tr th {\n",
       "        vertical-align: top;\n",
       "    }\n",
       "\n",
       "    .dataframe thead th {\n",
       "        text-align: right;\n",
       "    }\n",
       "</style>\n",
       "<table border=\"1\" class=\"dataframe\">\n",
       "  <thead>\n",
       "    <tr style=\"text-align: right;\">\n",
       "      <th></th>\n",
       "      <th>sent_score</th>\n",
       "    </tr>\n",
       "  </thead>\n",
       "  <tbody>\n",
       "    <tr>\n",
       "      <th>count</th>\n",
       "      <td>0.0</td>\n",
       "    </tr>\n",
       "    <tr>\n",
       "      <th>mean</th>\n",
       "      <td>NaN</td>\n",
       "    </tr>\n",
       "    <tr>\n",
       "      <th>std</th>\n",
       "      <td>NaN</td>\n",
       "    </tr>\n",
       "    <tr>\n",
       "      <th>min</th>\n",
       "      <td>NaN</td>\n",
       "    </tr>\n",
       "    <tr>\n",
       "      <th>25%</th>\n",
       "      <td>NaN</td>\n",
       "    </tr>\n",
       "    <tr>\n",
       "      <th>50%</th>\n",
       "      <td>NaN</td>\n",
       "    </tr>\n",
       "    <tr>\n",
       "      <th>75%</th>\n",
       "      <td>NaN</td>\n",
       "    </tr>\n",
       "    <tr>\n",
       "      <th>max</th>\n",
       "      <td>NaN</td>\n",
       "    </tr>\n",
       "  </tbody>\n",
       "</table>\n",
       "</div>"
      ],
      "text/plain": [
       "       sent_score\n",
       "count         0.0\n",
       "mean          NaN\n",
       "std           NaN\n",
       "min           NaN\n",
       "25%           NaN\n",
       "50%           NaN\n",
       "75%           NaN\n",
       "max           NaN"
      ]
     },
     "execution_count": 65,
     "metadata": {},
     "output_type": "execute_result"
    }
   ],
   "source": [
    "neutrales.describe()"
   ]
  }
 ],
 "metadata": {
  "kernelspec": {
   "display_name": "Python 3 (ipykernel)",
   "language": "python",
   "name": "python3"
  },
  "language_info": {
   "codemirror_mode": {
    "name": "ipython",
    "version": 3
   },
   "file_extension": ".py",
   "mimetype": "text/x-python",
   "name": "python",
   "nbconvert_exporter": "python",
   "pygments_lexer": "ipython3",
   "version": "3.11.9"
  }
 },
 "nbformat": 4,
 "nbformat_minor": 4
}
